{
 "cells": [
  {
   "cell_type": "markdown",
   "metadata": {},
   "source": [
    "# Capstone Project - Car accident severity (Week 2) \n",
    "### Applied Data Science Capstone by IBM/Coursera"
   ]
  },
  {
   "cell_type": "markdown",
   "metadata": {},
   "source": [
    "## Table of contents\n",
    "* [Introduction: Business Problem](#introduction)\n",
    "* [Data](#data)\n",
    "* [Methodology](#methodology)\n",
    "* [Analysis](#analysis)\n",
    "* [Results and Discussion](#results)\n",
    "* [Conclusion](#conclusion)"
   ]
  },
  {
   "cell_type": "markdown",
   "metadata": {},
   "source": [
    "## Introduction: Business Problem<a href='introduction'></a>\n",
    "\n",
    "In this project we will try to predict the severity of car accidents. Specifically, this report will be targeted to the new road users in and around seatle.\n",
    "\n",
    "Since there are lots of car accidents from 2004 till date in seatle, we will try to predict the severity of each car accidents. We are also interested in car accident that were caused by speeding, road condition, and lots more.\n",
    "\n",
    "We will use the data science powers to generate new insight as to how the rate of car accident severity could be reduced in seatle based on this criteria. Advantages of each features will then be clearly expressed so that best possible final solution can be chosen by stakeholders."
   ]
  },
  {
   "cell_type": "markdown",
   "metadata": {},
   "source": [
    "\n",
    "## Data<a name='data'></a>\n"
   ]
  },
  {
   "cell_type": "markdown",
   "metadata": {},
   "source": [
    "Based on definition of our problem, factore that could lead influence our decision are:\n",
    " - k\n",
    "\n",
    " - m"
   ]
  },
  {
   "cell_type": "code",
   "execution_count": 3,
   "metadata": {},
   "outputs": [
    {
     "output_type": "execute_result",
     "data": {
      "text/plain": "(194673, 38)"
     },
     "metadata": {},
     "execution_count": 3
    }
   ],
   "source": [
    "import pandas as pd\n",
    "\n",
    "df = pd.read_csv('Data-Collisions.csv')\n",
    "df.shape"
   ]
  },
  {
   "cell_type": "code",
   "execution_count": 6,
   "metadata": {},
   "outputs": [
    {
     "output_type": "execute_result",
     "data": {
      "text/plain": "    SEVERITYCODE           X          Y  ...  SEGLANEKEY  CROSSWALKKEY  HITPARKEDCAR\n0              2 -122.323148  47.703140  ...           0             0             N\n1              1 -122.347294  47.647172  ...           0             0             N\n2              1 -122.334540  47.607871  ...           0             0             N\n3              1 -122.334803  47.604803  ...           0             0             N\n4              2 -122.306426  47.545739  ...           0             0             N\n5              1 -122.387598  47.690575  ...           0             0             N\n6              1 -122.338485  47.618534  ...           0             0             N\n7              2 -122.320780  47.614076  ...        6855             0             N\n8              1 -122.335930  47.611904  ...           0             0             N\n9              2 -122.384700  47.528475  ...           0             0             N\n10             1         NaN        NaN  ...           0             0             N\n11             1 -122.333831  47.547371  ...           0             0             N\n12             1 -122.356273  47.571375  ...           0             0             N\n13             1 -122.323966  47.606374  ...           0             0             N\n14             2 -122.317414  47.664028  ...           0             0             N\n15             1 -122.337663  47.617510  ...           0             0             N\n16             2 -122.344539  47.692012  ...           0             0             N\n17             1         NaN        NaN  ...           0             0             N\n18             2 -122.328270  47.571420  ...           0             0             N\n19             1 -122.383802  47.583715  ...           0             0             N\n\n[20 rows x 38 columns]",
      "text/html": "<div>\n<style scoped>\n    .dataframe tbody tr th:only-of-type {\n        vertical-align: middle;\n    }\n\n    .dataframe tbody tr th {\n        vertical-align: top;\n    }\n\n    .dataframe thead th {\n        text-align: right;\n    }\n</style>\n<table border=\"1\" class=\"dataframe\">\n  <thead>\n    <tr style=\"text-align: right;\">\n      <th></th>\n      <th>SEVERITYCODE</th>\n      <th>X</th>\n      <th>Y</th>\n      <th>OBJECTID</th>\n      <th>INCKEY</th>\n      <th>COLDETKEY</th>\n      <th>REPORTNO</th>\n      <th>STATUS</th>\n      <th>ADDRTYPE</th>\n      <th>INTKEY</th>\n      <th>LOCATION</th>\n      <th>EXCEPTRSNCODE</th>\n      <th>EXCEPTRSNDESC</th>\n      <th>SEVERITYCODE.1</th>\n      <th>SEVERITYDESC</th>\n      <th>COLLISIONTYPE</th>\n      <th>PERSONCOUNT</th>\n      <th>PEDCOUNT</th>\n      <th>PEDCYLCOUNT</th>\n      <th>VEHCOUNT</th>\n      <th>INCDATE</th>\n      <th>INCDTTM</th>\n      <th>JUNCTIONTYPE</th>\n      <th>SDOT_COLCODE</th>\n      <th>SDOT_COLDESC</th>\n      <th>INATTENTIONIND</th>\n      <th>UNDERINFL</th>\n      <th>WEATHER</th>\n      <th>ROADCOND</th>\n      <th>LIGHTCOND</th>\n      <th>PEDROWNOTGRNT</th>\n      <th>SDOTCOLNUM</th>\n      <th>SPEEDING</th>\n      <th>ST_COLCODE</th>\n      <th>ST_COLDESC</th>\n      <th>SEGLANEKEY</th>\n      <th>CROSSWALKKEY</th>\n      <th>HITPARKEDCAR</th>\n    </tr>\n  </thead>\n  <tbody>\n    <tr>\n      <th>0</th>\n      <td>2</td>\n      <td>-122.323148</td>\n      <td>47.703140</td>\n      <td>1</td>\n      <td>1307</td>\n      <td>1307</td>\n      <td>3502005</td>\n      <td>Matched</td>\n      <td>Intersection</td>\n      <td>37475.0</td>\n      <td>5TH AVE NE AND NE 103RD ST</td>\n      <td></td>\n      <td>NaN</td>\n      <td>2</td>\n      <td>Injury Collision</td>\n      <td>Angles</td>\n      <td>2</td>\n      <td>0</td>\n      <td>0</td>\n      <td>2</td>\n      <td>2013/03/27 00:00:00+00</td>\n      <td>3/27/2013 2:54:00 PM</td>\n      <td>At Intersection (intersection related)</td>\n      <td>11</td>\n      <td>MOTOR VEHICLE STRUCK MOTOR VEHICLE, FRONT END ...</td>\n      <td>NaN</td>\n      <td>N</td>\n      <td>Overcast</td>\n      <td>Wet</td>\n      <td>Daylight</td>\n      <td>NaN</td>\n      <td>NaN</td>\n      <td>NaN</td>\n      <td>10</td>\n      <td>Entering at angle</td>\n      <td>0</td>\n      <td>0</td>\n      <td>N</td>\n    </tr>\n    <tr>\n      <th>1</th>\n      <td>1</td>\n      <td>-122.347294</td>\n      <td>47.647172</td>\n      <td>2</td>\n      <td>52200</td>\n      <td>52200</td>\n      <td>2607959</td>\n      <td>Matched</td>\n      <td>Block</td>\n      <td>NaN</td>\n      <td>AURORA BR BETWEEN RAYE ST AND BRIDGE WAY N</td>\n      <td>NaN</td>\n      <td>NaN</td>\n      <td>1</td>\n      <td>Property Damage Only Collision</td>\n      <td>Sideswipe</td>\n      <td>2</td>\n      <td>0</td>\n      <td>0</td>\n      <td>2</td>\n      <td>2006/12/20 00:00:00+00</td>\n      <td>12/20/2006 6:55:00 PM</td>\n      <td>Mid-Block (not related to intersection)</td>\n      <td>16</td>\n      <td>MOTOR VEHICLE STRUCK MOTOR VEHICLE, LEFT SIDE ...</td>\n      <td>NaN</td>\n      <td>0</td>\n      <td>Raining</td>\n      <td>Wet</td>\n      <td>Dark - Street Lights On</td>\n      <td>NaN</td>\n      <td>6354039.0</td>\n      <td>NaN</td>\n      <td>11</td>\n      <td>From same direction - both going straight - bo...</td>\n      <td>0</td>\n      <td>0</td>\n      <td>N</td>\n    </tr>\n    <tr>\n      <th>2</th>\n      <td>1</td>\n      <td>-122.334540</td>\n      <td>47.607871</td>\n      <td>3</td>\n      <td>26700</td>\n      <td>26700</td>\n      <td>1482393</td>\n      <td>Matched</td>\n      <td>Block</td>\n      <td>NaN</td>\n      <td>4TH AVE BETWEEN SENECA ST AND UNIVERSITY ST</td>\n      <td>NaN</td>\n      <td>NaN</td>\n      <td>1</td>\n      <td>Property Damage Only Collision</td>\n      <td>Parked Car</td>\n      <td>4</td>\n      <td>0</td>\n      <td>0</td>\n      <td>3</td>\n      <td>2004/11/18 00:00:00+00</td>\n      <td>11/18/2004 10:20:00 AM</td>\n      <td>Mid-Block (not related to intersection)</td>\n      <td>14</td>\n      <td>MOTOR VEHICLE STRUCK MOTOR VEHICLE, REAR END</td>\n      <td>NaN</td>\n      <td>0</td>\n      <td>Overcast</td>\n      <td>Dry</td>\n      <td>Daylight</td>\n      <td>NaN</td>\n      <td>4323031.0</td>\n      <td>NaN</td>\n      <td>32</td>\n      <td>One parked--one moving</td>\n      <td>0</td>\n      <td>0</td>\n      <td>N</td>\n    </tr>\n    <tr>\n      <th>3</th>\n      <td>1</td>\n      <td>-122.334803</td>\n      <td>47.604803</td>\n      <td>4</td>\n      <td>1144</td>\n      <td>1144</td>\n      <td>3503937</td>\n      <td>Matched</td>\n      <td>Block</td>\n      <td>NaN</td>\n      <td>2ND AVE BETWEEN MARION ST AND MADISON ST</td>\n      <td></td>\n      <td>NaN</td>\n      <td>1</td>\n      <td>Property Damage Only Collision</td>\n      <td>Other</td>\n      <td>3</td>\n      <td>0</td>\n      <td>0</td>\n      <td>3</td>\n      <td>2013/03/29 00:00:00+00</td>\n      <td>3/29/2013 9:26:00 AM</td>\n      <td>Mid-Block (not related to intersection)</td>\n      <td>11</td>\n      <td>MOTOR VEHICLE STRUCK MOTOR VEHICLE, FRONT END ...</td>\n      <td>NaN</td>\n      <td>N</td>\n      <td>Clear</td>\n      <td>Dry</td>\n      <td>Daylight</td>\n      <td>NaN</td>\n      <td>NaN</td>\n      <td>NaN</td>\n      <td>23</td>\n      <td>From same direction - all others</td>\n      <td>0</td>\n      <td>0</td>\n      <td>N</td>\n    </tr>\n    <tr>\n      <th>4</th>\n      <td>2</td>\n      <td>-122.306426</td>\n      <td>47.545739</td>\n      <td>5</td>\n      <td>17700</td>\n      <td>17700</td>\n      <td>1807429</td>\n      <td>Matched</td>\n      <td>Intersection</td>\n      <td>34387.0</td>\n      <td>SWIFT AVE S AND SWIFT AV OFF RP</td>\n      <td>NaN</td>\n      <td>NaN</td>\n      <td>2</td>\n      <td>Injury Collision</td>\n      <td>Angles</td>\n      <td>2</td>\n      <td>0</td>\n      <td>0</td>\n      <td>2</td>\n      <td>2004/01/28 00:00:00+00</td>\n      <td>1/28/2004 8:04:00 AM</td>\n      <td>At Intersection (intersection related)</td>\n      <td>11</td>\n      <td>MOTOR VEHICLE STRUCK MOTOR VEHICLE, FRONT END ...</td>\n      <td>NaN</td>\n      <td>0</td>\n      <td>Raining</td>\n      <td>Wet</td>\n      <td>Daylight</td>\n      <td>NaN</td>\n      <td>4028032.0</td>\n      <td>NaN</td>\n      <td>10</td>\n      <td>Entering at angle</td>\n      <td>0</td>\n      <td>0</td>\n      <td>N</td>\n    </tr>\n    <tr>\n      <th>5</th>\n      <td>1</td>\n      <td>-122.387598</td>\n      <td>47.690575</td>\n      <td>6</td>\n      <td>320840</td>\n      <td>322340</td>\n      <td>E919477</td>\n      <td>Matched</td>\n      <td>Intersection</td>\n      <td>36974.0</td>\n      <td>24TH AVE NW AND NW 85TH ST</td>\n      <td></td>\n      <td>NaN</td>\n      <td>1</td>\n      <td>Property Damage Only Collision</td>\n      <td>Angles</td>\n      <td>2</td>\n      <td>0</td>\n      <td>0</td>\n      <td>2</td>\n      <td>2019/04/20 00:00:00+00</td>\n      <td>4/20/2019 5:42:00 PM</td>\n      <td>At Intersection (intersection related)</td>\n      <td>11</td>\n      <td>MOTOR VEHICLE STRUCK MOTOR VEHICLE, FRONT END ...</td>\n      <td>NaN</td>\n      <td>N</td>\n      <td>Clear</td>\n      <td>Dry</td>\n      <td>Daylight</td>\n      <td>NaN</td>\n      <td>NaN</td>\n      <td>NaN</td>\n      <td>10</td>\n      <td>Entering at angle</td>\n      <td>0</td>\n      <td>0</td>\n      <td>N</td>\n    </tr>\n    <tr>\n      <th>6</th>\n      <td>1</td>\n      <td>-122.338485</td>\n      <td>47.618534</td>\n      <td>7</td>\n      <td>83300</td>\n      <td>83300</td>\n      <td>3282542</td>\n      <td>Matched</td>\n      <td>Intersection</td>\n      <td>29510.0</td>\n      <td>DENNY WAY AND WESTLAKE AVE</td>\n      <td>NaN</td>\n      <td>NaN</td>\n      <td>1</td>\n      <td>Property Damage Only Collision</td>\n      <td>Angles</td>\n      <td>2</td>\n      <td>0</td>\n      <td>0</td>\n      <td>2</td>\n      <td>2008/12/09 00:00:00+00</td>\n      <td>12/9/2008</td>\n      <td>At Intersection (intersection related)</td>\n      <td>11</td>\n      <td>MOTOR VEHICLE STRUCK MOTOR VEHICLE, FRONT END ...</td>\n      <td>NaN</td>\n      <td>0</td>\n      <td>Raining</td>\n      <td>Wet</td>\n      <td>Daylight</td>\n      <td>NaN</td>\n      <td>8344002.0</td>\n      <td>NaN</td>\n      <td>10</td>\n      <td>Entering at angle</td>\n      <td>0</td>\n      <td>0</td>\n      <td>N</td>\n    </tr>\n    <tr>\n      <th>7</th>\n      <td>2</td>\n      <td>-122.320780</td>\n      <td>47.614076</td>\n      <td>9</td>\n      <td>330897</td>\n      <td>332397</td>\n      <td>EA30304</td>\n      <td>Matched</td>\n      <td>Intersection</td>\n      <td>29745.0</td>\n      <td>BROADWAY AND E PIKE ST</td>\n      <td></td>\n      <td>NaN</td>\n      <td>2</td>\n      <td>Injury Collision</td>\n      <td>Cycles</td>\n      <td>3</td>\n      <td>0</td>\n      <td>1</td>\n      <td>1</td>\n      <td>2020/04/15 00:00:00+00</td>\n      <td>4/15/2020 5:47:00 PM</td>\n      <td>At Intersection (intersection related)</td>\n      <td>51</td>\n      <td>PEDALCYCLIST STRUCK MOTOR VEHICLE FRONT END AT...</td>\n      <td>NaN</td>\n      <td>N</td>\n      <td>Clear</td>\n      <td>Dry</td>\n      <td>Daylight</td>\n      <td>NaN</td>\n      <td>NaN</td>\n      <td>NaN</td>\n      <td>5</td>\n      <td>Vehicle Strikes Pedalcyclist</td>\n      <td>6855</td>\n      <td>0</td>\n      <td>N</td>\n    </tr>\n    <tr>\n      <th>8</th>\n      <td>1</td>\n      <td>-122.335930</td>\n      <td>47.611904</td>\n      <td>10</td>\n      <td>63400</td>\n      <td>63400</td>\n      <td>2071243</td>\n      <td>Matched</td>\n      <td>Block</td>\n      <td>NaN</td>\n      <td>PINE ST BETWEEN 5TH AVE AND 6TH AVE</td>\n      <td>NaN</td>\n      <td>NaN</td>\n      <td>1</td>\n      <td>Property Damage Only Collision</td>\n      <td>Parked Car</td>\n      <td>2</td>\n      <td>0</td>\n      <td>0</td>\n      <td>2</td>\n      <td>2006/06/15 00:00:00+00</td>\n      <td>6/15/2006 1:00:00 PM</td>\n      <td>Mid-Block (not related to intersection)</td>\n      <td>11</td>\n      <td>MOTOR VEHICLE STRUCK MOTOR VEHICLE, FRONT END ...</td>\n      <td>NaN</td>\n      <td>0</td>\n      <td>Clear</td>\n      <td>Dry</td>\n      <td>Daylight</td>\n      <td>NaN</td>\n      <td>6166014.0</td>\n      <td>NaN</td>\n      <td>32</td>\n      <td>One parked--one moving</td>\n      <td>0</td>\n      <td>0</td>\n      <td>N</td>\n    </tr>\n    <tr>\n      <th>9</th>\n      <td>2</td>\n      <td>-122.384700</td>\n      <td>47.528475</td>\n      <td>12</td>\n      <td>58600</td>\n      <td>58600</td>\n      <td>2072105</td>\n      <td>Matched</td>\n      <td>Intersection</td>\n      <td>34679.0</td>\n      <td>41ST AVE SW AND SW THISTLE ST</td>\n      <td>NaN</td>\n      <td>NaN</td>\n      <td>2</td>\n      <td>Injury Collision</td>\n      <td>Angles</td>\n      <td>2</td>\n      <td>0</td>\n      <td>0</td>\n      <td>2</td>\n      <td>2006/03/20 00:00:00+00</td>\n      <td>3/20/2006 3:49:00 PM</td>\n      <td>At Intersection (intersection related)</td>\n      <td>11</td>\n      <td>MOTOR VEHICLE STRUCK MOTOR VEHICLE, FRONT END ...</td>\n      <td>NaN</td>\n      <td>0</td>\n      <td>Clear</td>\n      <td>Dry</td>\n      <td>Daylight</td>\n      <td>NaN</td>\n      <td>6079001.0</td>\n      <td>NaN</td>\n      <td>10</td>\n      <td>Entering at angle</td>\n      <td>0</td>\n      <td>0</td>\n      <td>N</td>\n    </tr>\n    <tr>\n      <th>10</th>\n      <td>1</td>\n      <td>NaN</td>\n      <td>NaN</td>\n      <td>14</td>\n      <td>48900</td>\n      <td>48900</td>\n      <td>2024040</td>\n      <td>Matched</td>\n      <td>Alley</td>\n      <td>NaN</td>\n      <td>NaN</td>\n      <td>NaN</td>\n      <td>NaN</td>\n      <td>1</td>\n      <td>Property Damage Only Collision</td>\n      <td>Other</td>\n      <td>2</td>\n      <td>0</td>\n      <td>0</td>\n      <td>2</td>\n      <td>2006/05/25 00:00:00+00</td>\n      <td>5/25/2006 6:20:00 PM</td>\n      <td>Driveway Junction</td>\n      <td>11</td>\n      <td>MOTOR VEHICLE STRUCK MOTOR VEHICLE, FRONT END ...</td>\n      <td>NaN</td>\n      <td>0</td>\n      <td>Overcast</td>\n      <td>Dry</td>\n      <td>Daylight</td>\n      <td>NaN</td>\n      <td>6145029.0</td>\n      <td>NaN</td>\n      <td>22</td>\n      <td>One car leaving driveway access</td>\n      <td>0</td>\n      <td>0</td>\n      <td>N</td>\n    </tr>\n    <tr>\n      <th>11</th>\n      <td>1</td>\n      <td>-122.333831</td>\n      <td>47.547371</td>\n      <td>15</td>\n      <td>38800</td>\n      <td>38800</td>\n      <td>C654800</td>\n      <td>Matched</td>\n      <td>Intersection</td>\n      <td>33194.0</td>\n      <td>1ST AV S BR NB AND EAST MARGINAL WAY S</td>\n      <td>NaN</td>\n      <td>NaN</td>\n      <td>1</td>\n      <td>Property Damage Only Collision</td>\n      <td>Angles</td>\n      <td>2</td>\n      <td>0</td>\n      <td>0</td>\n      <td>2</td>\n      <td>2005/08/11 00:00:00+00</td>\n      <td>8/11/2005 5:30:00 PM</td>\n      <td>At Intersection (intersection related)</td>\n      <td>11</td>\n      <td>MOTOR VEHICLE STRUCK MOTOR VEHICLE, FRONT END ...</td>\n      <td>NaN</td>\n      <td>0</td>\n      <td>Clear</td>\n      <td>Dry</td>\n      <td>Daylight</td>\n      <td>NaN</td>\n      <td>5223041.0</td>\n      <td>NaN</td>\n      <td>10</td>\n      <td>Entering at angle</td>\n      <td>0</td>\n      <td>0</td>\n      <td>N</td>\n    </tr>\n    <tr>\n      <th>12</th>\n      <td>1</td>\n      <td>-122.356273</td>\n      <td>47.571375</td>\n      <td>16</td>\n      <td>2771</td>\n      <td>2771</td>\n      <td>1211870</td>\n      <td>Unmatched</td>\n      <td>Block</td>\n      <td>NaN</td>\n      <td>SW SPOKANE ST BETWEEN SW SPOKANE W BR AND TERM...</td>\n      <td></td>\n      <td>NaN</td>\n      <td>1</td>\n      <td>Property Damage Only Collision</td>\n      <td>Rear Ended</td>\n      <td>0</td>\n      <td>0</td>\n      <td>0</td>\n      <td>2</td>\n      <td>2006/05/17 00:00:00+00</td>\n      <td>5/17/2006 12:51:00 PM</td>\n      <td>Mid-Block (not related to intersection)</td>\n      <td>14</td>\n      <td>MOTOR VEHICLE STRUCK MOTOR VEHICLE, REAR END</td>\n      <td>NaN</td>\n      <td>0</td>\n      <td>Raining</td>\n      <td>Wet</td>\n      <td>Dark - Street Lights On</td>\n      <td>NaN</td>\n      <td>3137016.0</td>\n      <td>NaN</td>\n      <td>14</td>\n      <td>From same direction - both going straight - on...</td>\n      <td>0</td>\n      <td>0</td>\n      <td>N</td>\n    </tr>\n    <tr>\n      <th>13</th>\n      <td>1</td>\n      <td>-122.323966</td>\n      <td>47.606374</td>\n      <td>17</td>\n      <td>32800</td>\n      <td>32800</td>\n      <td>2128498</td>\n      <td>Matched</td>\n      <td>Block</td>\n      <td>NaN</td>\n      <td>TERRY AVE BETWEEN JAMES ST AND CHERRY ST</td>\n      <td>NaN</td>\n      <td>NaN</td>\n      <td>1</td>\n      <td>Property Damage Only Collision</td>\n      <td>Parked Car</td>\n      <td>2</td>\n      <td>0</td>\n      <td>0</td>\n      <td>2</td>\n      <td>2005/12/22 00:00:00+00</td>\n      <td>12/22/2005 5:13:00 PM</td>\n      <td>Mid-Block (not related to intersection)</td>\n      <td>13</td>\n      <td>MOTOR VEHICLE STRUCK MOTOR VEHICLE, LEFT SIDE ...</td>\n      <td>NaN</td>\n      <td>0</td>\n      <td>Raining</td>\n      <td>Wet</td>\n      <td>Dark - No Street Lights</td>\n      <td>NaN</td>\n      <td>5356027.0</td>\n      <td>NaN</td>\n      <td>32</td>\n      <td>One parked--one moving</td>\n      <td>0</td>\n      <td>0</td>\n      <td>N</td>\n    </tr>\n    <tr>\n      <th>14</th>\n      <td>2</td>\n      <td>-122.317414</td>\n      <td>47.664028</td>\n      <td>19</td>\n      <td>1212</td>\n      <td>1212</td>\n      <td>3507861</td>\n      <td>Matched</td>\n      <td>Block</td>\n      <td>NaN</td>\n      <td>ROOSEVELT WAY NE BETWEEN NE 47TH ST AND NE 50T...</td>\n      <td></td>\n      <td>NaN</td>\n      <td>2</td>\n      <td>Injury Collision</td>\n      <td>Head On</td>\n      <td>2</td>\n      <td>0</td>\n      <td>0</td>\n      <td>2</td>\n      <td>2013/03/31 00:00:00+00</td>\n      <td>3/31/2013 2:09:00 AM</td>\n      <td>Mid-Block (not related to intersection)</td>\n      <td>11</td>\n      <td>MOTOR VEHICLE STRUCK MOTOR VEHICLE, FRONT END ...</td>\n      <td>NaN</td>\n      <td>N</td>\n      <td>Clear</td>\n      <td>Dry</td>\n      <td>Dark - Street Lights On</td>\n      <td>NaN</td>\n      <td>NaN</td>\n      <td>NaN</td>\n      <td>30</td>\n      <td>From opposite direction - all others</td>\n      <td>0</td>\n      <td>0</td>\n      <td>N</td>\n    </tr>\n    <tr>\n      <th>15</th>\n      <td>1</td>\n      <td>-122.337663</td>\n      <td>47.617510</td>\n      <td>20</td>\n      <td>330878</td>\n      <td>332378</td>\n      <td>3838086</td>\n      <td>Unmatched</td>\n      <td>Block</td>\n      <td>NaN</td>\n      <td>9TH AVE BETWEEN LENORA ST AND BLANCHARD ST</td>\n      <td></td>\n      <td>NaN</td>\n      <td>1</td>\n      <td>Property Damage Only Collision</td>\n      <td>NaN</td>\n      <td>1</td>\n      <td>0</td>\n      <td>0</td>\n      <td>0</td>\n      <td>2020/04/20 00:00:00+00</td>\n      <td>4/20/2020</td>\n      <td>Driveway Junction</td>\n      <td>26</td>\n      <td>MOTOR VEHICLE STRUCK OBJECT IN ROAD</td>\n      <td>NaN</td>\n      <td>NaN</td>\n      <td>NaN</td>\n      <td>NaN</td>\n      <td>NaN</td>\n      <td>NaN</td>\n      <td>NaN</td>\n      <td>NaN</td>\n      <td></td>\n      <td>NaN</td>\n      <td>0</td>\n      <td>0</td>\n      <td>N</td>\n    </tr>\n    <tr>\n      <th>16</th>\n      <td>2</td>\n      <td>-122.344539</td>\n      <td>47.692012</td>\n      <td>21</td>\n      <td>46300</td>\n      <td>46300</td>\n      <td>2023080</td>\n      <td>Matched</td>\n      <td>Intersection</td>\n      <td>37365.0</td>\n      <td>AURORA AVE N AND N 87TH ST</td>\n      <td>NaN</td>\n      <td>NaN</td>\n      <td>2</td>\n      <td>Injury Collision</td>\n      <td>Left Turn</td>\n      <td>3</td>\n      <td>0</td>\n      <td>0</td>\n      <td>2</td>\n      <td>2005/07/01 00:00:00+00</td>\n      <td>7/1/2005</td>\n      <td>At Intersection (intersection related)</td>\n      <td>11</td>\n      <td>MOTOR VEHICLE STRUCK MOTOR VEHICLE, FRONT END ...</td>\n      <td>NaN</td>\n      <td>0</td>\n      <td>Overcast</td>\n      <td>Dry</td>\n      <td>Daylight</td>\n      <td>NaN</td>\n      <td>5182022.0</td>\n      <td>NaN</td>\n      <td>28</td>\n      <td>From opposite direction - one left turn - one ...</td>\n      <td>0</td>\n      <td>0</td>\n      <td>N</td>\n    </tr>\n    <tr>\n      <th>17</th>\n      <td>1</td>\n      <td>NaN</td>\n      <td>NaN</td>\n      <td>23</td>\n      <td>23000</td>\n      <td>23000</td>\n      <td>537838</td>\n      <td>Matched</td>\n      <td>Block</td>\n      <td>NaN</td>\n      <td>BATTERY ST TUN ON RP BETWEEN BELL ST AND ALASK...</td>\n      <td>NaN</td>\n      <td>NaN</td>\n      <td>1</td>\n      <td>Property Damage Only Collision</td>\n      <td>Rear Ended</td>\n      <td>0</td>\n      <td>0</td>\n      <td>0</td>\n      <td>2</td>\n      <td>2004/01/16 00:00:00+00</td>\n      <td>1/16/2004 8:25:00 AM</td>\n      <td>Mid-Block (but intersection related)</td>\n      <td>14</td>\n      <td>MOTOR VEHICLE STRUCK MOTOR VEHICLE, REAR END</td>\n      <td>NaN</td>\n      <td>0</td>\n      <td>Overcast</td>\n      <td>Dry</td>\n      <td>Daylight</td>\n      <td>NaN</td>\n      <td>4016025.0</td>\n      <td>NaN</td>\n      <td>14</td>\n      <td>From same direction - both going straight - on...</td>\n      <td>0</td>\n      <td>0</td>\n      <td>N</td>\n    </tr>\n    <tr>\n      <th>18</th>\n      <td>2</td>\n      <td>-122.328270</td>\n      <td>47.571420</td>\n      <td>24</td>\n      <td>330833</td>\n      <td>332333</td>\n      <td>EA29752</td>\n      <td>Matched</td>\n      <td>Block</td>\n      <td>NaN</td>\n      <td>S SPOKANE SR ST BETWEEN 4TH AVE S AND 5TH AVE S</td>\n      <td></td>\n      <td>NaN</td>\n      <td>2</td>\n      <td>Injury Collision</td>\n      <td>Rear Ended</td>\n      <td>4</td>\n      <td>0</td>\n      <td>0</td>\n      <td>3</td>\n      <td>2020/04/17 00:00:00+00</td>\n      <td>4/17/2020 2:44:00 PM</td>\n      <td>Mid-Block (not related to intersection)</td>\n      <td>14</td>\n      <td>MOTOR VEHICLE STRUCK MOTOR VEHICLE, REAR END</td>\n      <td>NaN</td>\n      <td>N</td>\n      <td>Clear</td>\n      <td>Dry</td>\n      <td>Daylight</td>\n      <td>NaN</td>\n      <td>NaN</td>\n      <td>NaN</td>\n      <td>14</td>\n      <td>From same direction - both going straight - on...</td>\n      <td>0</td>\n      <td>0</td>\n      <td>N</td>\n    </tr>\n    <tr>\n      <th>19</th>\n      <td>1</td>\n      <td>-122.383802</td>\n      <td>47.583715</td>\n      <td>25</td>\n      <td>97100</td>\n      <td>97100</td>\n      <td>2894590</td>\n      <td>Matched</td>\n      <td>Block</td>\n      <td>NaN</td>\n      <td>41ST AVE SW BETWEEN SW WALKER ST AND SW COLLEG...</td>\n      <td>NaN</td>\n      <td>NaN</td>\n      <td>1</td>\n      <td>Property Damage Only Collision</td>\n      <td>Parked Car</td>\n      <td>2</td>\n      <td>0</td>\n      <td>0</td>\n      <td>2</td>\n      <td>2009/06/01 00:00:00+00</td>\n      <td>6/1/2009</td>\n      <td>Mid-Block (not related to intersection)</td>\n      <td>11</td>\n      <td>MOTOR VEHICLE STRUCK MOTOR VEHICLE, FRONT END ...</td>\n      <td>NaN</td>\n      <td>0</td>\n      <td>Unknown</td>\n      <td>Dry</td>\n      <td>Unknown</td>\n      <td>NaN</td>\n      <td>9152035.0</td>\n      <td>NaN</td>\n      <td>32</td>\n      <td>One parked--one moving</td>\n      <td>0</td>\n      <td>0</td>\n      <td>N</td>\n    </tr>\n  </tbody>\n</table>\n</div>"
     },
     "metadata": {},
     "execution_count": 6
    }
   ],
   "source": [
    "df.head(20)"
   ]
  },
  {
   "cell_type": "markdown",
   "metadata": {},
   "source": [
    "## Methodology<a name='methodology'></a>"
   ]
  },
  {
   "cell_type": "markdown",
   "metadata": {},
   "source": [
    "## Analysis<a name='analysis'></a>"
   ]
  },
  {
   "cell_type": "markdown",
   "metadata": {},
   "source": [
    "## Results and Discussion<a name='results'></a>"
   ]
  },
  {
   "cell_type": "markdown",
   "metadata": {},
   "source": [
    "## Conclusion<a name='conclusion'></a>"
   ]
  }
 ],
 "metadata": {
  "language_info": {
   "codemirror_mode": {
    "name": "ipython",
    "version": 3
   },
   "file_extension": ".py",
   "mimetype": "text/x-python",
   "name": "python",
   "nbconvert_exporter": "python",
   "pygments_lexer": "ipython3",
   "version": 3
  },
  "orig_nbformat": 2,
  "kernelspec": {
   "name": "python_defaultSpec_1602109427219",
   "display_name": "Python 3.7.3 64-bit ('base': conda)"
  }
 },
 "nbformat": 4,
 "nbformat_minor": 2
}