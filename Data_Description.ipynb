{
 "cells": [
  {
   "cell_type": "markdown",
   "metadata": {},
   "source": [
    "# Data Description"
   ]
  },
  {
   "cell_type": "markdown",
   "metadata": {},
   "source": [
    " - The dataset is centered around car collision. The consist of 194673 rows and 38 columns. It has the total 12 integer datatypes, 4 float datatypes and 20 object datatypes. The dataset summary is displayed below:\n",
    "\n",
    "\n",
    "\n",
    "\n",
    " "
   ]
  },
  {
   "cell_type": "markdown",
   "metadata": {},
   "source": [
    "### Data Set Basic\n",
    "<br>\n",
    " - Title Collisions — All Years\n",
    " - Abstract - All collisions provided by SPD and recorded by Traffic Records.\n",
    " - Description - This includes all types of collisions. Collisions will display at the intersection or mid-block of a segment. Timeframe: 2004 to Present.\n",
    "\n",
    " - Update Frequency - Weekly\n",
    " - Keyword(s) SDOT, Seattle, Transportation, Accidents, Bicycle, Car, Collisions, Pedestrian, Traffic, Vehicle\n",
    "<br>\n",
    "<br>\n",
    "\n",
    "### Contact Information\n",
    " - Contact Organization - SDOT Traffic Management Division, Traffic Records Group\n",
    " - Contact Person - SDOT GIS Analyst\n",
    " - Contact Email - DOT_IT_GIS@seattle.gov"
   ]
  }
 ],
 "metadata": {
  "language_info": {
   "codemirror_mode": {
    "name": "ipython",
    "version": 3
   },
   "file_extension": ".py",
   "mimetype": "text/x-python",
   "name": "python",
   "nbconvert_exporter": "python",
   "pygments_lexer": "ipython3",
   "version": 3
  },
  "orig_nbformat": 2
 },
 "nbformat": 4,
 "nbformat_minor": 2
}